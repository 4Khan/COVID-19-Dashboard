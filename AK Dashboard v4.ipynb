{
 "cells": [
  {
   "cell_type": "markdown",
   "metadata": {},
   "source": [
    "[DIY Covid-19 Dashboard Kit](https://github.com/fsmeraldi/diy-covid19dash) (C) Fabrizio Smeraldi, 2020 ([f.smeraldi@qmul.ac.uk](mailto:f.smeraldi@qmul.ac.uk) - [web](http://www.eecs.qmul.ac.uk/~fabri/)). All rights reserved."
   ]
  },
  {
   "cell_type": "markdown",
   "metadata": {},
   "source": [
    "# Covid-19 Dashboard"
   ]
  },
  {
   "cell_type": "markdown",
   "metadata": {},
   "source": [
    "This interactive dashboard displays the total number of males and females who died within 28 days of being identified as a COVID-19 case by a positive test since the start of the pandemic. It is further split up by age groups."
   ]
  },
  {
   "cell_type": "code",
   "execution_count": 1,
   "metadata": {},
   "outputs": [],
   "source": [
    "# import libraries\n",
    "\n",
    "from IPython.display import clear_output\n",
    "import ipywidgets as wdg\n",
    "import pandas as pd\n",
    "import numpy as np\n",
    "import matplotlib.pyplot as plt\n",
    "import json\n",
    "from uk_covid19 import Cov19API\n",
    "import seaborn as sns"
   ]
  },
  {
   "cell_type": "code",
   "execution_count": 2,
   "metadata": {},
   "outputs": [],
   "source": [
    "%matplotlib inline\n",
    "# make figures larger\n",
    "plt.rcParams['figure.dpi'] = 100"
   ]
  },
  {
   "cell_type": "code",
   "execution_count": 3,
   "metadata": {},
   "outputs": [],
   "source": [
    "# Load JSON files and store the raw data in some variable\n",
    "\n",
    "# load data\n",
    "with open(\"deaths.json\", \"rt\") as INPUT:\n",
    "    rawdata=json.load(INPUT)\n",
    "    "
   ]
  },
  {
   "cell_type": "code",
   "execution_count": 4,
   "metadata": {},
   "outputs": [],
   "source": [
    "def wrangle_data(rawdata):\n",
    "    \"\"\" Parameters: rawdata - data from json file or API call. Returns a dataframe.\n",
    "    Edit to include the code that wrangles the data, creates the dataframe and fills it in. \"\"\"\n",
    "    # extract value of key 'data' which is a list of a dictionary\n",
    "    datadictionary = rawdata['data'][0]\n",
    "    datadictionary\n",
    "    \n",
    "    # extract dictionary values of 'MaleDeaths' and 'FemaleDeaths' keys' \n",
    "    # and assign to their own variables\n",
    "    males = datadictionary['MaleDeaths']\n",
    "    females = datadictionary['FemaleDeaths']\n",
    "\n",
    "    # extract age bands - same for both lists\n",
    "\n",
    "    # create empty list\n",
    "    age_band = []\n",
    "\n",
    "    # for each row in the list, extract the value of key 'age' and add to the list 'age_band'\n",
    "    for i in males:\n",
    "        age_band.append(i['age'])\n",
    "    \n",
    "    age_band.sort(key=min_age)\n",
    "\n",
    "    # format list\n",
    "    # create a new list to append\n",
    "    age_groups = []\n",
    "\n",
    "    # for each item in the age_band list\n",
    "    for i in age_band:\n",
    "        # replace the + and _ characters and append the new list\n",
    "        age_groups.append(i.replace(\"_\",\" \"))\n",
    "    \n",
    "    # Define dataframe\n",
    "    deaths_df=pd.DataFrame(index=age_groups, columns=['males','females', 'total'])\n",
    "    \n",
    "    # loop over males and females values to fill in deaths_df (dataframe)\n",
    " \n",
    "    # create counters\n",
    "    num = 0\n",
    "    num2 = 0\n",
    "\n",
    "    # for each item in dictionary 'males'\n",
    "    for i in males: \n",
    "        \n",
    "        # ages is equal to age_groups[index] \n",
    "        ages = age_groups[num]\n",
    "    \n",
    "        # access specific location in frame\n",
    "        deaths_df.loc[ages, 'males'] = i['value']\n",
    "    \n",
    "        num += 1\n",
    "    \n",
    "    for i in females:\n",
    "        ages = age_groups[num2]\n",
    "    \n",
    "        deaths_df.loc[ages, 'females'] = i['value']\n",
    "    \n",
    "        num2 += 1\n",
    "        \n",
    "    # get the total amoount of deaths\n",
    "    deaths_df['total'] = deaths_df['males'] + deaths_df['females']\n",
    "    \n",
    "    return deaths_df\n",
    "\n",
    "# create a function to be used a sort key\n",
    "def min_age(agerange):\n",
    "    \n",
    "    # apply string methods\n",
    "    agerange=agerange.replace('+','') # remove the + from 90+\n",
    "    start=agerange.split('_')[0] # split() returns a list with the '_' removed\n",
    "    \n",
    "    # typecast into an integer and return value\n",
    "    return int(start)\n",
    "\n",
    "\n",
    "# putting the wrangling code into a function allows you to call it again after refreshing the data through \n",
    "# the API. Call the function directly on the JSON data when the dashboard starts, by including \n",
    "# the call in the cell as below:\n",
    "df=wrangle_data(rawdata) # df is the dataframe for plotting"
   ]
  },
  {
   "cell_type": "code",
   "execution_count": 5,
   "metadata": {},
   "outputs": [],
   "source": [
    "# our API access function. This will be called by the button when it is clicked\n",
    "def access_api():\n",
    "    \"\"\" Accesses the PHE API. Returns raw data in the same format as data loaded from the \"canned\" JSON file. \"\"\"\n",
    "    # we put the code for polling the api here\n",
    "    \n",
    "    # define filters\n",
    "    filters = [\n",
    "    'areaType=nation', # note each metric-value pair is inside one string\n",
    "    'areaName=england'\n",
    "    ]\n",
    "    \n",
    "    # values here are the names of the PHE metrics\n",
    "    structure = {\n",
    "    \"MaleDeaths\": \"maleDeaths28Days\",\n",
    "    \"FemaleDeaths\": \"femaleDeaths28Days\"   \n",
    "    }\n",
    "    \n",
    "    # create an instance of the object\n",
    "    api = Cov19API(filters=filters, structure=structure)\n",
    "    \n",
    "    # calling the get_json() method of the api object \n",
    "    # sends the request to the API and retrieves the response\n",
    "    deaths=api.get_json()\n",
    "    \n",
    "    # return data read from the API\n",
    "    return deaths"
   ]
  },
  {
   "cell_type": "markdown",
   "metadata": {},
   "source": [
    "Click the 'Refresh data' button to download the latest statistics:"
   ]
  },
  {
   "cell_type": "code",
   "execution_count": 6,
   "metadata": {},
   "outputs": [
    {
     "data": {
      "application/vnd.jupyter.widget-view+json": {
       "model_id": "6a531e94d3ab442ea4fdeef07b25ec50",
       "version_major": 2,
       "version_minor": 0
      },
      "text/plain": [
       "Button(description='Refresh data', icon='users', style=ButtonStyle(), tooltip='Click to download current Publi…"
      ]
     },
     "metadata": {},
     "output_type": "display_data"
    }
   ],
   "source": [
    "# Printout from this function will be lost in Voila unless captured in an\n",
    "# output widget - therefore, we give feedback to the user by changing the \n",
    "# appearance of the button\n",
    "def api_button_callback(button):\n",
    "    \"\"\" Button callback - it must take the button as its parameter (unused in this case).\n",
    "    Accesses API, wrangles data, updates global variable df used for plotting. \"\"\"\n",
    "    \n",
    "    # Get fresh data from the API.\n",
    "    apidata=access_api()\n",
    "    \n",
    "    # we are calling a global variable df, important not to change this!\n",
    "    # wrangle the data and overwrite the dataframe for plotting\n",
    "    global df\n",
    "    \n",
    "    df=wrangle_data(apidata)\n",
    "    \n",
    "    # the graph won't refresh until the user interacts with the widget.\n",
    "    # this function simulates the interaction\n",
    "    refresh_graph()\n",
    "    \n",
    "    # switch button to 'checked'\n",
    "    apibutton.icon=\"user-check\"\n",
    "    \n",
    "    # disable button\n",
    "    apibutton.disabled=True\n",
    "\n",
    "\n",
    "# create button widget    \n",
    "apibutton=wdg.Button(\n",
    "    description='Refresh data',\n",
    "    disabled=False,\n",
    "    button_style='', # options are:'success', 'info', 'warning', 'danger' or ''\n",
    "    tooltip='Click to download current Public Health England data',\n",
    "    icon='users' # (FontAwesome names without the `fa-` prefix)\n",
    ")\n",
    "\n",
    "# register button callback function with the button\n",
    "apibutton.on_click(api_button_callback)\n",
    "\n",
    "display(apibutton)\n"
   ]
  },
  {
   "cell_type": "code",
   "execution_count": 7,
   "metadata": {},
   "outputs": [
    {
     "data": {
      "application/vnd.jupyter.widget-view+json": {
       "model_id": "012daee2d3854a628a6d3226eeb22ee7",
       "version_major": 2,
       "version_minor": 0
      },
      "text/plain": [
       "SelectMultiple(description='Gender', index=(0, 1), options=('males', 'females', 'total'), rows=3, value=('male…"
      ]
     },
     "metadata": {},
     "output_type": "display_data"
    },
    {
     "data": {
      "application/vnd.jupyter.widget-view+json": {
       "model_id": "77407758b79c4ab58139f758701e2112",
       "version_major": 2,
       "version_minor": 0
      },
      "text/plain": [
       "Output()"
      ]
     },
     "metadata": {},
     "output_type": "display_data"
    }
   ],
   "source": [
    "agecols=wdg.SelectMultiple(\n",
    "    options=['males', 'females', 'total'], # options available\n",
    "    value=['males', 'females'], # initial value\n",
    "    rows=3, # rows of the selection box\n",
    "    description='Gender',\n",
    "    disabled=False\n",
    ")\n",
    "\n",
    "def age_graph(graphcolumns):\n",
    "    # our callback function.\n",
    "    ncols=len(graphcolumns)\n",
    "    if ncols>0:\n",
    "        \n",
    "        # set default table style from seaborn library\n",
    "        sns.set_style(\"darkgrid\")\n",
    "        \n",
    "        # graphcolumns is a tuple - we need a list\n",
    "        df.plot(kind='bar', y=list(graphcolumns)) \n",
    "\n",
    "        # add title and labels to chart\n",
    "        plt.title(\"Deaths from COVID-19 within 28 days of a positive test\")\n",
    "        plt.xlabel(\"Age Group\")\n",
    "        plt.ylabel(\"No. of deaths\")\n",
    "        \n",
    "        plt.show()\n",
    "        \n",
    "    else:\n",
    "        # if the user has not selected any column, print a message instead\n",
    "        print(\"Click to select data for graph\")\n",
    "        print(\"(CTRL-Click to select more than one category)\")\n",
    "    \n",
    "# this refreshes the graph when called  \n",
    "def refresh_graph():\n",
    "    \"\"\" We change the value of the widget in order to force a redraw of the graph;\n",
    "    this is useful when the data have been updated. \"\"\"\n",
    "    \n",
    "    current=agecols.value\n",
    "    if current==(agecols.options[0], ):\n",
    "        other=(agecols.options[1], )\n",
    "    else:\n",
    "        other=(agecols.options[0],)\n",
    "    agecols.value=other # forces the redraw\n",
    "    agecols.value=current # now we can change it back\n",
    "    \n",
    "    \n",
    "# keep calling age_graph(graphcolumns=value_of_agecols); capture output in widget output    \n",
    "output=wdg.interactive_output(age_graph, {'graphcolumns': agecols})\n",
    "\n",
    "# display output\n",
    "display(agecols, output)"
   ]
  },
  {
   "cell_type": "markdown",
   "metadata": {},
   "source": [
    "**Author and Copyright Notice** \n",
    "\n",
    "Amaan Khan. *Based on UK Government [data](https://coronavirus.data.gov.uk/) published by [Public Health England](https://www.gov.uk/government/organisations/public-health-england).*"
   ]
  }
 ],
 "metadata": {
  "kernelspec": {
   "display_name": "Python 3 (ipykernel)",
   "language": "python",
   "name": "python3"
  },
  "language_info": {
   "codemirror_mode": {
    "name": "ipython",
    "version": 3
   },
   "file_extension": ".py",
   "mimetype": "text/x-python",
   "name": "python",
   "nbconvert_exporter": "python",
   "pygments_lexer": "ipython3",
   "version": "3.10.6"
  }
 },
 "nbformat": 4,
 "nbformat_minor": 4
}
